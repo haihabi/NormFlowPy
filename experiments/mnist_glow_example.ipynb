{
 "cells": [
  {
   "cell_type": "code",
   "execution_count": 1,
   "metadata": {},
   "outputs": [
    {
     "data": {
      "text/plain": [
       "'/Users/haihabi/projects/NormFlowPy'"
      ]
     },
     "execution_count": 1,
     "metadata": {},
     "output_type": "execute_result"
    }
   ],
   "source": [
    "import os\n",
    "base=os.path.dirname(os.path.realpath(\"__file__\")).split(os.sep)\n",
    "os.chdir(os.sep+os.path.join(*base[:-1]))\n",
    "os.getcwd()"
   ]
  },
  {
   "cell_type": "code",
   "execution_count": 2,
   "metadata": {},
   "outputs": [
    {
     "name": "stderr",
     "output_type": "stream",
     "text": [
      "/Users/haihabi/Envs/research_3_7/lib/python3.7/site-packages/torchvision/io/image.py:11: UserWarning: Failed to load image Python extension: dlopen(/Users/haihabi/Envs/research_3_7/lib/python3.7/site-packages/torchvision/image.so, 6): Library not loaded: @rpath/libjpeg.9.dylib\n",
      "  Referenced from: /Users/haihabi/Envs/research_3_7/lib/python3.7/site-packages/torchvision/image.so\n",
      "  Reason: Incompatible library version: image.so requires version 14.0.0 or later, but libjpeg.9.dylib provides version 12.0.0\n",
      "  warn(f\"Failed to load image Python extension: {e}\")\n"
     ]
    }
   ],
   "source": [
    "import numpy as np\n",
    "import normflowpy as nfp\n",
    "import torch\n",
    "from matplotlib import pyplot as plt\n",
    "from torch.distributions import MultivariateNormal\n",
    "from experiments.functions import run_training\n",
    "from experiments.datasets.preprocess import Dequatization\n",
    "from torchvision import  transforms\n",
    "import torchvision"
   ]
  },
  {
   "cell_type": "code",
   "execution_count": 3,
   "metadata": {},
   "outputs": [
    {
     "name": "stdout",
     "output_type": "stream",
     "text": [
      "Current Working Device is set to:cpu\n",
      "Downloading http://yann.lecun.com/exdb/mnist/train-images-idx3-ubyte.gz\n",
      "Downloading http://yann.lecun.com/exdb/mnist/train-images-idx3-ubyte.gz to data/MNIST/raw/train-images-idx3-ubyte.gz\n"
     ]
    },
    {
     "name": "stderr",
     "output_type": "stream",
     "text": [
      "  5%|▍         | 494592/9912422 [00:04<01:10, 133144.10it/s]"
     ]
    }
   ],
   "source": [
    "n_flow_blocks = 3\n",
    "batch_size = 32\n",
    "n_epochs = 50\n",
    "device = torch.device(\"cuda\" if torch.cuda.is_available() else \"cpu\")\n",
    "print(\"Current Working Device is set to:\" + str(device))\n",
    "transform=transforms.Compose([\n",
    "        transforms.ToTensor(),\n",
    "        Dequatization()\n",
    "        ])\n",
    "\n",
    "def collater(batch):\n",
    "    return torch.stack([b[0] for b in batch],dim=0)\n",
    "\n",
    "\n",
    "\n",
    "\n",
    "training_data=torchvision.datasets.MNIST('data', train=True, download=True,\n",
    "                       transform=transform)\n",
    "training_dataset_loader = torch.utils.data.DataLoader(training_data, batch_size=batch_size,\n",
    "                                                      shuffle=True, num_workers=0,collate_fn=collater)\n",
    "validation_data=torchvision.datasets.MNIST('data', train=False, download=True,\n",
    "                       transform=transform)\n",
    "validation_dataset_loader = torch.utils.data.DataLoader(validation_data, batch_size=batch_size,\n",
    "                                                        shuffle=False, num_workers=0,collate_fn=collater)"
   ]
  },
  {
   "cell_type": "markdown",
   "metadata": {},
   "source": [
    "# Create Glow Normalizing Flow Model"
   ]
  },
  {
   "cell_type": "code",
   "execution_count": null,
   "metadata": {},
   "outputs": [],
   "source": [
    "x_shape=[1,28,28]\n",
    "dim=np.prod(x_shape)\n",
    "base_distribution = MultivariateNormal(torch.zeros(dim, device=device),\n",
    "                                       torch.eye(dim, device=device))  # generate a class for base distribution\n",
    "flows = []\n",
    "for s in range(2):\n",
    "    x_shape=[x_shape[0]*4,x_shape[1]//2,x_shape[2]//2]\n",
    "    flows.append(nfp.flows.Squeeze(2))\n",
    "    for i in range(n_flow_blocks):\n",
    "        flows.append(\n",
    "            nfp.flows.ActNorm(x_shape=x_shape))\n",
    "        flows.append(\n",
    "            nfp.flows.InvertibleConv2d1x1(dim=x_shape[0]))\n",
    "        flows.append(\n",
    "            nfp.flows.AffineCoupling(x_shape=x_shape, parity=i % 2,  nh=32))\n",
    "flows.append(nfp.flows.Tensor2Vector(x_shape))\n",
    "flow = nfp.NormalizingFlowModel(base_distribution, flows).to(device)"
   ]
  },
  {
   "cell_type": "markdown",
   "metadata": {
    "pycharm": {
     "name": "#%% md\n"
    }
   },
   "source": [
    "# Set Optimizer and run training"
   ]
  },
  {
   "cell_type": "code",
   "execution_count": null,
   "metadata": {
    "collapsed": false,
    "jupyter": {
     "outputs_hidden": false
    },
    "pycharm": {
     "name": "#%%\n"
    }
   },
   "outputs": [
    {
     "name": "stdout",
     "output_type": "stream",
     "text": [
      "Starting Training Loop\n"
     ]
    },
    {
     "data": {
      "application/vnd.jupyter.widget-view+json": {
       "model_id": "fff52fd75cc44f5fbc421adeffb3a91d",
       "version_major": 2,
       "version_minor": 0
      },
      "text/plain": [
       "HBox(children=(FloatProgress(value=0.0, max=50.0), HTML(value='')))"
      ]
     },
     "metadata": {},
     "output_type": "display_data"
    },
    {
     "name": "stdout",
     "output_type": "stream",
     "text": [
      "End Epoch with training loss:127015.66297521922 and validtion loss:7281.986563051852\n",
      "End Epoch with training loss:3834.792425520833 and validtion loss:2820.8307573726765\n",
      "End Epoch with training loss:1272.278626546224 and validtion loss:12675.879638848593\n",
      "End Epoch with training loss:521.8216703979492 and validtion loss:63358.880317954594\n",
      "End Epoch with training loss:222.58501174112956 and validtion loss:149338.550518003\n",
      "End Epoch with training loss:92.85980861867269 and validtion loss:126448.5019971804\n",
      "End Epoch with training loss:36.88964098587036 and validtion loss:72228.79285460897\n",
      "End Epoch with training loss:14.623312777968248 and validtion loss:24951.113680655213\n",
      "End Epoch with training loss:3.8107240659156814 and validtion loss:4520.754283976613\n",
      "End Epoch with training loss:-0.3819766155144821 and validtion loss:2947.6271228422156\n",
      "End Epoch with training loss:-2.5830483684482672 and validtion loss:2863.4007782890394\n",
      "End Epoch with training loss:-3.6518241638183593 and validtion loss:4244.174939598757\n",
      "End Epoch with training loss:-4.439511472225189 and validtion loss:3206.1194947481918\n",
      "End Epoch with training loss:-5.305310932413737 and validtion loss:2541.111118740167\n",
      "End Epoch with training loss:-6.259186307525635 and validtion loss:1560.5888099061033\n",
      "End Epoch with training loss:-6.981049973297119 and validtion loss:278.7203489949528\n",
      "End Epoch with training loss:-7.454521778361003 and validtion loss:63.36283904066482\n",
      "End Epoch with training loss:-7.786383164834977 and validtion loss:21.498660434930088\n",
      "End Epoch with training loss:-6.2157798828125 and validtion loss:23.109362148248348\n",
      "End Epoch with training loss:-7.528281838226318 and validtion loss:5.252834809093049\n",
      "End Epoch with training loss:-8.071814229838054 and validtion loss:-2.152355248935687\n",
      "End Epoch with training loss:-8.294451494089762 and validtion loss:-4.978574670541781\n",
      "End Epoch with training loss:-7.177640102859338 and validtion loss:3.950599582050555\n",
      "End Epoch with training loss:-7.956100169754028 and validtion loss:-6.196997257086416\n",
      "End Epoch with training loss:-7.914849163373312 and validtion loss:-6.618028532582731\n",
      "End Epoch with training loss:-8.516077217864991 and validtion loss:-7.226971154014905\n",
      "End Epoch with training loss:-8.706800795110066 and validtion loss:-7.112950452981285\n",
      "End Epoch with training loss:-8.843983704376221 and validtion loss:-6.544237866569251\n",
      "End Epoch with training loss:-8.025346502522627 and validtion loss:-7.55214445888044\n",
      "End Epoch with training loss:-8.831413817278545 and validtion loss:-5.392661792401689\n",
      "End Epoch with training loss:7.410777426735064 and validtion loss:3.158188507674982\n",
      "End Epoch with training loss:-5.017172775757313 and validtion loss:-3.934112979962041\n",
      "End Epoch with training loss:-6.143483183765412 and validtion loss:7.194534099140106\n",
      "End Epoch with training loss:-7.096783028475444 and validtion loss:2.3125714996752267\n",
      "End Epoch with training loss:-8.031151287714641 and validtion loss:-3.6767432194548295\n",
      "End Epoch with training loss:-8.563930434223016 and validtion loss:-7.676114350462112\n",
      "End Epoch with training loss:-8.901710865592957 and validtion loss:-8.140573803228312\n",
      "End Epoch with training loss:-8.858827802276611 and validtion loss:-7.743813205450868\n",
      "End Epoch with training loss:-4.728279504919052 and validtion loss:-5.959911309872953\n",
      "End Epoch with training loss:-7.6034107421875 and validtion loss:-7.2759190611184215\n",
      "End Epoch with training loss:-8.620893474324545 and validtion loss:-8.113102711808567\n",
      "End Epoch with training loss:-9.034385231526693 and validtion loss:-8.838207982218684\n",
      "End Epoch with training loss:-9.263617898273468 and validtion loss:-9.497004790808827\n",
      "End Epoch with training loss:-5.128795687158902 and validtion loss:43.283507560580645\n",
      "End Epoch with training loss:-4.531304128714402 and validtion loss:-5.247297603101395\n",
      "End Epoch with training loss:-6.432846783320109 and validtion loss:-6.098142648276429\n",
      "End Epoch with training loss:-7.745695103263855 and validtion loss:-8.544824346947594\n",
      "End Epoch with training loss:-8.811847107187907 and validtion loss:-9.070762175340622\n",
      "End Epoch with training loss:-9.329498591105143 and validtion loss:-9.32032704886537\n",
      "End Epoch with training loss:-9.523750499979656 and validtion loss:-9.531061240278493\n",
      "\n"
     ]
    }
   ],
   "source": [
    "optimizer = torch.optim.Adam(flow.parameters(), lr=1e-3,weight_decay=1e-4)\n",
    "run_training(n_epochs, training_dataset_loader, validation_dataset_loader, flow, optimizer, device)"
   ]
  },
  {
   "cell_type": "markdown",
   "metadata": {
    "pycharm": {
     "name": "#%% md\n"
    }
   },
   "source": [
    "# Plot Samples"
   ]
  },
  {
   "cell_type": "code",
   "execution_count": null,
   "metadata": {},
   "outputs": [],
   "source": [
    "img=flow.sample(32)"
   ]
  },
  {
   "cell_type": "code",
   "execution_count": null,
   "metadata": {},
   "outputs": [
    {
     "name": "stdout",
     "output_type": "stream",
     "text": [
      "4.02893 -0.8974374\n",
      "1.3258936 -0.28664196\n",
      "12.771264 -10.106139\n",
      "17.621904 -9.541475\n",
      "24.421509 -4.098285\n",
      "28.95105 -5.132152\n",
      "18.851128 -15.614518\n",
      "7.0425453 -1.5705204\n",
      "2.213815 -0.8748774\n",
      "78.60389 -40.2431\n",
      "181.37299 -64.80293\n",
      "1.3819691 -0.7597503\n",
      "1.8991113 -0.28496292\n",
      "16.400253 -62.521122\n",
      "4.307445 -1.4998772\n",
      "36.58819 -3.610413\n"
     ]
    },
    {
     "data": {
      "image/png": "[encoded data removed]",
      "text/plain": [
       "<Figure size 432x288 with 16 Axes>"
      ]
     },
     "metadata": {
      "needs_background": "light"
     },
     "output_type": "display_data"
    }
   ],
   "source": [
    "n = 4\n",
    "for i in range(n):\n",
    "    for j in range(n):\n",
    "        index = i + n * j\n",
    "        plt.subplot(n, n, 1 + index)\n",
    "        x=img[index,0,:,:].detach().numpy()\n",
    "        # print(np.max(x),np.min(x))\n",
    "        plt.imshow(x.astype(\"int\"))\n",
    "plt.show()\n"
   ]
  }
 ],
 "metadata": {
  "kernelspec": {
   "display_name": "Python 3",
   "language": "python",
   "name": "python3"
  },
  "language_info": {
   "codemirror_mode": {
    "name": "ipython",
    "version": 3
   },
   "file_extension": ".py",
   "mimetype": "text/x-python",
   "name": "python",
   "nbconvert_exporter": "python",
   "pygments_lexer": "ipython3",
   "version": "3.7.4"
  }
 },
 "nbformat": 4,
 "nbformat_minor": 4
}
