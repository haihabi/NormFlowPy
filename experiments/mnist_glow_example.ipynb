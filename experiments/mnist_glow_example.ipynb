{
 "cells": [
  {
   "cell_type": "code",
   "execution_count": 1,
   "metadata": {},
   "outputs": [
    {
     "data": {
      "text/plain": [
       "'/Users/haihabi/projects/NormFlowPy'"
      ]
     },
     "execution_count": 1,
     "metadata": {},
     "output_type": "execute_result"
    }
   ],
   "source": [
    "import os\n",
    "base=os.path.dirname(os.path.realpath(\"__file__\")).split(os.sep)\n",
    "os.chdir(os.sep+os.path.join(*base[:-1]))\n",
    "os.getcwd()"
   ]
  },
  {
   "cell_type": "code",
   "execution_count": 2,
   "metadata": {},
   "outputs": [
    {
     "name": "stderr",
     "output_type": "stream",
     "text": [
      "/Users/haihabi/envs/research_3_7/lib/python3.7/site-packages/torchvision/io/image.py:11: UserWarning: Failed to load image Python extension: dlopen(/Users/haihabi/envs/research_3_7/lib/python3.7/site-packages/torchvision/image.so, 6): Library not loaded: @rpath/libjpeg.9.dylib\n",
      "  Referenced from: /Users/haihabi/envs/research_3_7/lib/python3.7/site-packages/torchvision/image.so\n",
      "  Reason: Incompatible library version: image.so requires version 14.0.0 or later, but libjpeg.9.dylib provides version 12.0.0\n",
      "  warn(f\"Failed to load image Python extension: {e}\")\n"
     ]
    }
   ],
   "source": [
    "import numpy as np\n",
    "import normflowpy as nfp\n",
    "import torch\n",
    "from matplotlib import pyplot as plt\n",
    "from torch.distributions import MultivariateNormal\n",
    "from experiments.functions import run_training\n",
    "from torchvision import  transforms\n",
    "import torchvision"
   ]
  },
  {
   "cell_type": "code",
   "execution_count": 3,
   "metadata": {},
   "outputs": [
    {
     "name": "stdout",
     "output_type": "stream",
     "text": [
      "Current Working Device is set to:cpu\n"
     ]
    }
   ],
   "source": [
    "n_flow_blocks = 3\n",
    "batch_size = 32\n",
    "n_epochs = 50\n",
    "device = torch.device(\"cuda\" if torch.cuda.is_available() else \"cpu\")\n",
    "print(\"Current Working Device is set to:\" + str(device))\n",
    "transform=transforms.Compose([\n",
    "        transforms.ToTensor()\n",
    "        ])\n",
    "\n",
    "def collater(batch):\n",
    "    return torch.stack([b[0] for b in batch],dim=0)\n",
    "\n",
    "\n",
    "\n",
    "\n",
    "training_data=torchvision.datasets.MNIST('data', train=True, download=True,\n",
    "                       transform=transform)\n",
    "training_dataset_loader = torch.utils.data.DataLoader(training_data, batch_size=batch_size,\n",
    "                                                      shuffle=True, num_workers=0,collate_fn=collater)\n",
    "validation_data=torchvision.datasets.MNIST('data', train=False, download=True,\n",
    "                       transform=transform)\n",
    "validation_dataset_loader = torch.utils.data.DataLoader(validation_data, batch_size=batch_size,\n",
    "                                                        shuffle=False, num_workers=0,collate_fn=collater)"
   ]
  },
  {
   "cell_type": "markdown",
   "metadata": {},
   "source": [
    "# Create Glow Normalizing Flow Model"
   ]
  },
  {
   "cell_type": "code",
   "execution_count": 4,
   "metadata": {},
   "outputs": [],
   "source": [
    "x_shape=[1,28,28]\n",
    "dim=np.prod(x_shape)\n",
    "base_distribution = MultivariateNormal(torch.zeros(dim, device=device),\n",
    "                                       torch.eye(dim, device=device))  # generate a class for base distribution\n",
    "flows = []\n",
    "for s in range(2):\n",
    "    x_shape=[x_shape[0]*4,x_shape[1]//2,x_shape[2]//2]\n",
    "    flows.append(nfp.flows.Squeeze(2))\n",
    "    for i in range(n_flow_blocks):\n",
    "        flows.append(\n",
    "            nfp.flows.ActNorm(x_shape=x_shape))\n",
    "        flows.append(\n",
    "            nfp.flows.InvertibleConv2d1x1(dim=x_shape[0]))\n",
    "        flows.append(\n",
    "            nfp.flows.AffineCoupling(x_shape=x_shape, parity=i % 2,  nh=32))\n",
    "flows.append(nfp.flows.Tensor2Vector(x_shape))\n",
    "flow = nfp.NormalizingFlowModel(base_distribution, flows).to(device)"
   ]
  },
  {
   "cell_type": "markdown",
   "metadata": {
    "pycharm": {
     "name": "#%% md\n"
    }
   },
   "source": [
    "# Set Optimizer and run training"
   ]
  },
  {
   "cell_type": "code",
   "execution_count": null,
   "metadata": {
    "collapsed": false,
    "jupyter": {
     "outputs_hidden": false
    },
    "pycharm": {
     "name": "#%%\n"
    }
   },
   "outputs": [
    {
     "name": "stdout",
     "output_type": "stream",
     "text": [
      "Starting Training Loop\n"
     ]
    },
    {
     "data": {
      "application/vnd.jupyter.widget-view+json": {
       "model_id": "b6a14e83e20d4335b36ff54894eba3ea",
       "version_major": 2,
       "version_minor": 0
      },
      "text/plain": [
       "HBox(children=(FloatProgress(value=0.0, max=50.0), HTML(value='')))"
      ]
     },
     "metadata": {},
     "output_type": "display_data"
    },
    {
     "name": "stdout",
     "output_type": "stream",
     "text": [
      "End Epoch with training loss:332841.7468868862 and validtion loss:14617.314184560562\n",
      "End Epoch with training loss:9404.86828326823 and validtion loss:3781.7692498399047\n",
      "End Epoch with training loss:3065.1074485026043 and validtion loss:6415.190694181302\n",
      "End Epoch with training loss:1187.0502162760417 and validtion loss:24800.822864844777\n"
     ]
    }
   ],
   "source": [
    "optimizer = torch.optim.Adam(flow.parameters(), lr=1e-3,weight_decay=1e-4)\n",
    "run_training(n_epochs, training_dataset_loader, validation_dataset_loader, flow, optimizer, device)"
   ]
  },
  {
   "cell_type": "markdown",
   "metadata": {
    "pycharm": {
     "name": "#%% md\n"
    }
   },
   "source": [
    "# Plot Samples"
   ]
  },
  {
   "cell_type": "code",
   "execution_count": null,
   "metadata": {
    "pycharm": {
     "name": "#%%\n"
    }
   },
   "outputs": [],
   "source": []
  }
 ],
 "metadata": {
  "kernelspec": {
   "display_name": "Python 3",
   "language": "python",
   "name": "python3"
  },
  "language_info": {
   "codemirror_mode": {
    "name": "ipython",
    "version": 3
   },
   "file_extension": ".py",
   "mimetype": "text/x-python",
   "name": "python",
   "nbconvert_exporter": "python",
   "pygments_lexer": "ipython3",
   "version": "3.7.4"
  }
 },
 "nbformat": 4,
 "nbformat_minor": 4
}
