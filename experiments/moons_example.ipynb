{
 "cells": [
  {
   "cell_type": "code",
   "execution_count": 1,
   "metadata": {},
   "outputs": [],
   "source": [
    "import numpy as np\n",
    "import normflowpy as nfp\n",
    "import datasets\n",
    "import torch\n",
    "from matplotlib import pyplot as plt\n",
    "from torch.distributions import MultivariateNormal\n",
    "from tqdm.notebook import tqdm"
   ]
  },
  {
   "cell_type": "code",
   "execution_count": 2,
   "metadata": {},
   "outputs": [
    {
     "name": "stdout",
     "output_type": "stream",
     "text": [
      "Current Working Device is set to:cuda\n"
     ]
    }
   ],
   "source": [
    "dataset_type=datasets.DatasetType.MOONS\n",
    "n_training_samples=50000\n",
    "n_validation_samples=10000\n",
    "n_flow_blocks=3\n",
    "batch_size=32\n",
    "n_epochs=50\n",
    "device=torch.device(\"cuda\" if torch.cuda.is_available() else \"cpu\")\n",
    "print(\"Current Working Device is set to:\" + str(device))\n",
    "training_data=datasets.get_dataset(dataset_type,n_training_samples)\n",
    "training_dataset_loader = torch.utils.data.DataLoader(training_data, batch_size=batch_size,\n",
    "                                                          shuffle=True, num_workers=0)\n",
    "\n",
    "validation_data=datasets.get_dataset(dataset_type,n_validation_samples)\n",
    "validation_dataset_loader = torch.utils.data.DataLoader(validation_data, batch_size=batch_size,\n",
    "                                                          shuffle=False, num_workers=0)"
   ]
  },
  {
   "cell_type": "markdown",
   "metadata": {},
   "source": [
    "# Training functions"
   ]
  },
  {
   "cell_type": "code",
   "execution_count": 3,
   "metadata": {},
   "outputs": [],
   "source": [
    "def _run_training_loop(in_training_dataset,in_flow_model,in_optimizer,in_device):\n",
    "    in_flow_model.train()\n",
    "    loss_sum=0\n",
    "    n=len(in_training_dataset)\n",
    "    for x in in_training_dataset:\n",
    "            x = x.to(in_device)\n",
    "            in_optimizer.zero_grad()\n",
    "            loss = in_flow_model.nll_mean(x)\n",
    "            loss.backward()\n",
    "            in_optimizer.step()\n",
    "            loss_sum+=loss.item()\n",
    "    return loss_sum/n\n",
    "\n",
    "def _run_validation_loop(in_validation_dataset,in_flow_model,in_device):\n",
    "    in_flow_model.eval()\n",
    "    loss_sum=0\n",
    "    n=len(in_validation_dataset)\n",
    "    with torch.no_grad():\n",
    "        for x in in_validation_dataset: \n",
    "            x = x.to(in_device)\n",
    "            loss = in_flow_model.nll_mean(x)\n",
    "            loss_sum+=loss.item()\n",
    "    return loss_sum/n\n",
    "        \n",
    "def run_training(in_n_epoch,in_training_dataset,in_validation_dataset,in_flow_model,in_optimizer,in_device):\n",
    "    print(\"Starting Training Loop\")\n",
    "    for epoch in tqdm(range(in_n_epoch)):\n",
    "        loss_training=_run_training_loop(in_training_dataset,in_flow_model,in_optimizer,in_device)\n",
    "        loss_validation=_run_validation_loop(in_validation_dataset,in_flow_model,in_device)\n",
    "        print(f\"End Epoch with training loss:{loss_training} and validtion loss:{loss_validation}\")\n",
    "    \n",
    "def generate_probability_map(n_points,x_min,x_max,y_min,y_max,in_flow_model):\n",
    "    results=[]\n",
    "    for x in torch.linspace(x_min,x_max,n_points):\n",
    "        _results_y=[]\n",
    "        for y in torch.linspace(y_min,y_max,n_points):\n",
    "            d=torch.stack([x,y]).reshape([1,-1])\n",
    "            _results_y.append(in_flow_model.nll(d).item())\n",
    "        results.append(_results_y)\n",
    "    return np.exp(-np.asarray(results)).T"
   ]
  },
  {
   "cell_type": "markdown",
   "metadata": {},
   "source": [
    "# Create Normalzing Flow Model"
   ]
  },
  {
   "cell_type": "code",
   "execution_count": null,
   "metadata": {
    "pycharm": {
     "is_executing": true
    }
   },
   "outputs": [
    {
     "name": "stdout",
     "output_type": "stream",
     "text": [
      "Starting Training Loop\n"
     ]
    },
    {
     "data": {
      "text/plain": "  0%|          | 0/50 [00:00<?, ?it/s]",
      "application/vnd.jupyter.widget-view+json": {
       "version_major": 2,
       "version_minor": 0,
       "model_id": "44fe6395c6ad432482800decfeae893f"
      }
     },
     "metadata": {},
     "output_type": "display_data"
    },
    {
     "name": "stdout",
     "output_type": "stream",
     "text": [
      "End Epoch with training loss:0.9482523003069926 and validtion loss:0.9243732945987592\n",
      "End Epoch with training loss:0.8922948246191346 and validtion loss:0.8601978832540421\n",
      "End Epoch with training loss:0.8465410634560686 and validtion loss:0.8373369728795256\n",
      "End Epoch with training loss:0.8288694873728664 and validtion loss:0.822019803066985\n",
      "End Epoch with training loss:0.8129078706944515 and validtion loss:0.8038057974352243\n"
     ]
    }
   ],
   "source": [
    "dim=training_data.dim() # get data dim\n",
    "base_distribution=MultivariateNormal(torch.zeros(dim, device=device),torch.eye(dim, device=device)) # generate a class for base distribution\n",
    "flows = []\n",
    "for i in range(n_flow_blocks):\n",
    "    flows.append(\n",
    "            nfp.flows.ActNorm(dim=dim))\n",
    "    flows.append(\n",
    "            nfp.flows.InvertibleFullyConnected(dim=dim))\n",
    "    flows.append(\n",
    "                nfp.flows.AffineCoupling(x_shape=[dim], parity=i % 2,net_class=nfp.base_nets.generate_mlp_class()))\n",
    "flow=nfp.NormalizingFlowModel(base_distribution, flows).to(device)\n",
    "optimizer=torch.optim.Adam(flow.parameters(),lr=1e-4)\n",
    "run_training(n_epochs,training_dataset_loader,validation_dataset_loader,flow,optimizer,device)"
   ]
  },
  {
   "cell_type": "code",
   "execution_count": null,
   "metadata": {
    "pycharm": {
     "is_executing": true
    }
   },
   "outputs": [],
   "source": [
    "x_min=-1.4\n",
    "x_max=2.1\n",
    "y_min=-1\n",
    "y_max=1.5\n",
    "res=generate_probability_map(200,x_min,x_max,y_min,y_max,flow)"
   ]
  },
  {
   "cell_type": "code",
   "execution_count": null,
   "metadata": {
    "pycharm": {
     "is_executing": true
    }
   },
   "outputs": [],
   "source": [
    "fig, (ax0,ax1) = plt.subplots(2)\n",
    "x=np.linspace(x_min,x_max,200)\n",
    "y=np.linspace(y_min,y_max,200)\n",
    "\n",
    "\n",
    "xx,yy=np.meshgrid(x,y)\n",
    "im = ax0.pcolormesh(xx,yy,res)\n",
    "\n",
    "ax1.plot(training_data[:,0],training_data[:,1],\"o\")\n",
    "ax1.grid()\n",
    "plt.show()"
   ]
  }
 ],
 "metadata": {
  "kernelspec": {
   "display_name": "Python 3",
   "language": "python",
   "name": "python3"
  },
  "language_info": {
   "codemirror_mode": {
    "name": "ipython",
    "version": 3
   },
   "file_extension": ".py",
   "mimetype": "text/x-python",
   "name": "python",
   "nbconvert_exporter": "python",
   "pygments_lexer": "ipython3",
   "version": "3.7.4"
  }
 },
 "nbformat": 4,
 "nbformat_minor": 4
}