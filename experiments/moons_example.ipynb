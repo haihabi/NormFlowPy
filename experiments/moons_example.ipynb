{
 "cells": [
  {
   "cell_type": "code",
   "execution_count": 7,
   "metadata": {},
   "outputs": [],
   "source": [
    "import numpy as np\n",
    "import normflowpy as nfp\n",
    "import datasets\n",
    "import torch\n",
    "from matplotlib import pyplot as plt\n",
    "from torch.distributions import MultivariateNormal\n",
    "from tqdm.notebook import tqdm"
   ]
  },
  {
   "cell_type": "code",
   "execution_count": 8,
   "metadata": {},
   "outputs": [
    {
     "name": "stdout",
     "output_type": "stream",
     "text": [
      "Current Working Device is set to:cuda\n"
     ]
    }
   ],
   "source": [
    "dataset_type=datasets.DatasetType.MOONS\n",
    "n_training_samples=50000\n",
    "n_validation_samples=10000\n",
    "n_flow_blocks=3\n",
    "batch_size=32\n",
    "n_epochs=50\n",
    "device=torch.device(\"cuda\" if torch.cuda.is_available() else \"cpu\")\n",
    "print(\"Current Working Device is set to:\" + str(device))\n",
    "training_data=datasets.get_dataset(dataset_type,n_training_samples)\n",
    "training_dataset_loader = torch.utils.data.DataLoader(training_data, batch_size=batch_size,\n",
    "                                                          shuffle=True, num_workers=0)\n",
    "\n",
    "validation_data=datasets.get_dataset(dataset_type,n_validation_samples)\n",
    "validation_dataset_loader = torch.utils.data.DataLoader(validation_data, batch_size=batch_size,\n",
    "                                                          shuffle=False, num_workers=0)"
   ]
  },
  {
   "cell_type": "markdown",
   "metadata": {},
   "source": [
    "# Training functions"
   ]
  },
  {
   "cell_type": "code",
   "execution_count": 9,
   "metadata": {},
   "outputs": [],
   "source": [
    "def _run_training_loop(in_training_dataset,in_flow_model,in_optimizer,in_device):\n",
    "    in_flow_model.train()\n",
    "    loss_sum=0\n",
    "    n=len(in_training_dataset)\n",
    "    for x in in_training_dataset:\n",
    "            x = x.to(in_device)\n",
    "            in_optimizer.zero_grad()\n",
    "            loss = in_flow_model.nll_mean(x)\n",
    "            loss.backward()\n",
    "            in_optimizer.step()\n",
    "            loss_sum+=loss.item()\n",
    "    return loss_sum/n\n",
    "\n",
    "def _run_validation_loop(in_validation_dataset,in_flow_model,in_device):\n",
    "    in_flow_model.eval()\n",
    "    loss_sum=0\n",
    "    n=len(in_validation_dataset)\n",
    "    with torch.no_grad():\n",
    "        for x in in_validation_dataset: \n",
    "            x = x.to(in_device)\n",
    "            loss = in_flow_model.nll_mean(x)\n",
    "            loss_sum+=loss.item()\n",
    "    return loss_sum/n\n",
    "        \n",
    "def run_training(in_n_epoch,in_training_dataset,in_validation_dataset,in_flow_model,in_optimizer,in_device):\n",
    "    print(\"Starting Training Loop\")\n",
    "    for epoch in tqdm(range(in_n_epoch)):\n",
    "        loss_training=_run_training_loop(in_training_dataset,in_flow_model,in_optimizer,in_device)\n",
    "        loss_validation=_run_validation_loop(in_validation_dataset,in_flow_model,in_device)\n",
    "        print(f\"End Epoch with training loss:{loss_training} and validtion loss:{loss_validation}\")\n",
    "    \n",
    "def generate_probability_map(n_points,x_min,x_max,y_min,y_max,in_flow_model,in_device):\n",
    "    results=[]\n",
    "    for x in torch.linspace(x_min,x_max,n_points):\n",
    "        _results_y=[]\n",
    "        for y in torch.linspace(y_min,y_max,n_points):\n",
    "            d=torch.stack([x,y]).reshape([1,-1]).to(in_device)\n",
    "            _results_y.append(in_flow_model.nll(d).item())\n",
    "        results.append(_results_y)\n",
    "    return np.exp(-np.asarray(results)).T"
   ]
  },
  {
   "cell_type": "markdown",
   "metadata": {},
   "source": [
    "# Create Normalzing Flow Model"
   ]
  },
  {
   "cell_type": "code",
   "execution_count": 10,
   "metadata": {},
   "outputs": [
    {
     "name": "stdout",
     "output_type": "stream",
     "text": [
      "Starting Training Loop\n"
     ]
    },
    {
     "data": {
      "text/plain": "  0%|          | 0/50 [00:00<?, ?it/s]",
      "application/vnd.jupyter.widget-view+json": {
       "version_major": 2,
       "version_minor": 0,
       "model_id": "db410f51e6444868bdb009bf8c84067d"
      }
     },
     "metadata": {},
     "output_type": "display_data"
    },
    {
     "name": "stdout",
     "output_type": "stream",
     "text": [
      "End Epoch with training loss:0.8698726548495692 and validtion loss:0.6824712966577694\n",
      "End Epoch with training loss:0.6250847763002338 and validtion loss:0.5850818284784263\n",
      "End Epoch with training loss:0.5701285785043843 and validtion loss:0.5511062715571529\n",
      "End Epoch with training loss:0.5451928082560394 and validtion loss:0.5311594713991061\n",
      "End Epoch with training loss:0.5268900481386972 and validtion loss:0.5217457414625551\n",
      "End Epoch with training loss:0.5110959737101046 and validtion loss:0.5039895567269371\n",
      "End Epoch with training loss:0.49380674922001033 and validtion loss:0.4810016613227491\n",
      "End Epoch with training loss:0.4781295990074436 and validtion loss:0.4647568029146225\n",
      "End Epoch with training loss:0.4640751095990378 and validtion loss:0.4589483047636172\n",
      "End Epoch with training loss:0.44980976118998733 and validtion loss:0.4501184353622766\n",
      "End Epoch with training loss:0.44023092742234715 and validtion loss:0.4316554964540866\n",
      "End Epoch with training loss:0.4335819871396646 and validtion loss:0.4498520081702132\n",
      "End Epoch with training loss:0.4208060075610552 and validtion loss:0.41268613429876944\n",
      "End Epoch with training loss:0.415902525300943 and validtion loss:0.403330305133003\n",
      "End Epoch with training loss:0.40625501617131443 and validtion loss:0.3954812930033991\n",
      "End Epoch with training loss:0.39767319850637906 and validtion loss:0.3885901345612523\n",
      "End Epoch with training loss:0.38964137262876264 and validtion loss:0.38300997099746914\n",
      "End Epoch with training loss:0.3829856527991884 and validtion loss:0.37487093023598766\n",
      "End Epoch with training loss:0.3718164233170254 and validtion loss:0.36295325958881136\n",
      "End Epoch with training loss:0.3645202704226826 and validtion loss:0.3539102289813776\n",
      "End Epoch with training loss:0.3561787564147762 and validtion loss:0.34852874636078796\n",
      "End Epoch with training loss:0.3466306371246098 and validtion loss:0.33911262362148054\n",
      "End Epoch with training loss:0.3392261666265422 and validtion loss:0.3309630167941316\n",
      "End Epoch with training loss:0.32935427193144384 and validtion loss:0.32349354976091904\n",
      "End Epoch with training loss:0.3224187742964015 and validtion loss:0.31564773604892693\n",
      "End Epoch with training loss:0.3133506356706927 and validtion loss:0.3098333931435792\n",
      "End Epoch with training loss:0.3055981360971737 and validtion loss:0.2977690073533561\n",
      "End Epoch with training loss:0.29853546252368124 and validtion loss:0.2910591747385625\n",
      "End Epoch with training loss:0.294979425852669 and validtion loss:0.28450590029311257\n",
      "End Epoch with training loss:0.2863882078728993 and validtion loss:0.2867289843460241\n",
      "End Epoch with training loss:0.2808017867664382 and validtion loss:0.27197598370785914\n",
      "End Epoch with training loss:0.27739942673967954 and validtion loss:0.2645635124498282\n",
      "End Epoch with training loss:0.27332817721618574 and validtion loss:0.26920973540494997\n",
      "End Epoch with training loss:0.26937669284894383 and validtion loss:0.25709314156359375\n",
      "End Epoch with training loss:0.2638969422197083 and validtion loss:0.25729086904670484\n",
      "End Epoch with training loss:0.26260981182981896 and validtion loss:0.26540276960443004\n",
      "End Epoch with training loss:0.25709093369719926 and validtion loss:0.24817849737339126\n",
      "End Epoch with training loss:0.2551171366108661 and validtion loss:0.240773090229819\n",
      "End Epoch with training loss:0.25288834424971846 and validtion loss:0.24148885872417364\n",
      "End Epoch with training loss:0.24985101515866973 and validtion loss:0.24206084703294614\n",
      "End Epoch with training loss:0.24632900211809922 and validtion loss:0.24225060863140674\n",
      "End Epoch with training loss:0.2456551500603852 and validtion loss:0.23205910193415497\n",
      "End Epoch with training loss:0.2420154337604993 and validtion loss:0.23597061417449397\n",
      "End Epoch with training loss:0.2394541658208451 and validtion loss:0.2260024116252558\n",
      "End Epoch with training loss:0.23836795092391724 and validtion loss:0.22829524201516527\n",
      "End Epoch with training loss:0.23621895774645982 and validtion loss:0.2259164625487198\n",
      "End Epoch with training loss:0.2340064043094543 and validtion loss:0.22301886911495045\n",
      "End Epoch with training loss:0.23110894804852594 and validtion loss:0.22264761550310322\n",
      "End Epoch with training loss:0.2290536292285795 and validtion loss:0.22206795634553075\n",
      "End Epoch with training loss:0.2267090158628792 and validtion loss:0.2177815927912633\n"
     ]
    }
   ],
   "source": [
    "dim=training_data.dim() # get data dim\n",
    "base_distribution=MultivariateNormal(torch.zeros(dim, device=device),torch.eye(dim, device=device)) # generate a class for base distribution\n",
    "flows = []\n",
    "for i in range(n_flow_blocks):\n",
    "    flows.append(\n",
    "            nfp.flows.ActNorm(dim=dim))\n",
    "    flows.append(\n",
    "            nfp.flows.InvertibleFullyConnected(dim=dim))\n",
    "    flows.append(\n",
    "                nfp.flows.AffineCoupling(x_shape=[dim], parity=i % 2,net_class=nfp.base_nets.generate_mlp_class(),nh=32))\n",
    "flow=nfp.NormalizingFlowModel(base_distribution, flows).to(device)\n",
    "optimizer=torch.optim.Adam(flow.parameters(),lr=1e-4)\n",
    "run_training(n_epochs,training_dataset_loader,validation_dataset_loader,flow,optimizer,device)"
   ]
  },
  {
   "cell_type": "code",
   "execution_count": 11,
   "metadata": {},
   "outputs": [],
   "source": [
    "x_min=-1.4\n",
    "x_max=2.1\n",
    "y_min=-1\n",
    "y_max=1.5\n",
    "res=generate_probability_map(200,x_min,x_max,y_min,y_max,flow,device)"
   ]
  },
  {
   "cell_type": "code",
   "execution_count": 12,
   "metadata": {},
   "outputs": [
    {
     "name": "stderr",
     "output_type": "stream",
     "text": [
      "/tmp/ipykernel_2108275/2954670075.py:7: MatplotlibDeprecationWarning: shading='flat' when X and Y have the same dimensions as C is deprecated since 3.3.  Either specify the corners of the quadrilaterals with X and Y, or pass shading='auto', 'nearest' or 'gouraud', or set rcParams['pcolor.shading'].  This will become an error two minor releases later.\n",
      "  im = ax0.pcolormesh(xx,yy,res)\n"
     ]
    },
    {
     "data": {
      "text/plain": "<Figure size 432x288 with 2 Axes>",
      "image/png": "[encoded data removed]"
     },
     "metadata": {
      "needs_background": "light"
     },
     "output_type": "display_data"
    }
   ],
   "source": [
    "fig, (ax0,ax1) = plt.subplots(2)\n",
    "x=np.linspace(x_min,x_max,200)\n",
    "y=np.linspace(y_min,y_max,200)\n",
    "\n",
    "\n",
    "xx,yy=np.meshgrid(x,y)\n",
    "im = ax0.pcolormesh(xx,yy,res)\n",
    "\n",
    "ax1.plot(training_data[:,0],training_data[:,1],\"o\")\n",
    "ax1.grid()\n",
    "plt.show()"
   ]
  }
 ],
 "metadata": {
  "kernelspec": {
   "display_name": "Python 3",
   "language": "python",
   "name": "python3"
  },
  "language_info": {
   "codemirror_mode": {
    "name": "ipython",
    "version": 3
   },
   "file_extension": ".py",
   "mimetype": "text/x-python",
   "name": "python",
   "nbconvert_exporter": "python",
   "pygments_lexer": "ipython3",
   "version": "3.7.4"
  }
 },
 "nbformat": 4,
 "nbformat_minor": 4
}