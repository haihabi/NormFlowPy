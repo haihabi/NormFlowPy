{
 "cells": [
  {
   "cell_type": "code",
   "execution_count": 1,
   "metadata": {},
   "outputs": [],
   "source": [
    "import os\n",
    "import numpy as np\n",
    "import normflowpy as nfp\n",
    "import datasets\n",
    "import torch\n",
    "from matplotlib import pyplot as plt\n",
    "from torch.distributions import MultivariateNormal\n",
    "from tqdm.notebook import tqdm"
   ]
  },
  {
   "cell_type": "code",
   "execution_count": 2,
   "metadata": {},
   "outputs": [
    {
     "name": "stdout",
     "output_type": "stream",
     "text": [
      "Current Working Device is set to:cpu\n"
     ]
    }
   ],
   "source": [
    "dataset_type=datasets.DatasetType.MOONS\n",
    "n_training_samples=50000\n",
    "n_validation_samples=10000\n",
    "n_flow_blocks=3\n",
    "batch_size=32\n",
    "n_epochs=50\n",
    "device=torch.device(\"cuda\" if torch.cuda.is_available() else \"cpu\")\n",
    "print(\"Current Working Device is set to:\" + str(device))\n",
    "training_data=datasets.get_dataset(dataset_type,n_training_samples)\n",
    "training_dataset_loader = torch.utils.data.DataLoader(training_data, batch_size=batch_size,\n",
    "                                                          shuffle=True, num_workers=0)\n",
    "\n",
    "validation_data=datasets.get_dataset(dataset_type,n_validation_samples)\n",
    "validation_dataset_loader = torch.utils.data.DataLoader(validation_data, batch_size=batch_size,\n",
    "                                                          shuffle=False, num_workers=0)"
   ]
  },
  {
   "cell_type": "markdown",
   "metadata": {},
   "source": [
    "# Training functions"
   ]
  },
  {
   "cell_type": "code",
   "execution_count": 3,
   "metadata": {},
   "outputs": [],
   "source": [
    "def _run_training_loop(in_training_dataset,in_flow_model,in_optimizer,in_device):\n",
    "    in_flow_model.train()\n",
    "    loss_sum=0\n",
    "    n=len(in_training_dataset)\n",
    "    for x in in_training_dataset:\n",
    "            x = x.to(in_device)\n",
    "            in_optimizer.zero_grad()\n",
    "            loss = in_flow_model.nll_mean(x)\n",
    "            loss.backward()\n",
    "            in_optimizer.step()\n",
    "            loss_sum+=loss.item()\n",
    "    return loss_sum/n\n",
    "\n",
    "def _run_validation_loop(in_validation_dataset,in_flow_model,in_device):\n",
    "    in_flow_model.eval()\n",
    "    loss_sum=0\n",
    "    n=len(in_validation_dataset)\n",
    "    with torch.no_grad():\n",
    "        for x in in_validation_dataset: \n",
    "            x = x.to(in_device)\n",
    "            loss = in_flow_model.nll_mean(x)\n",
    "            loss_sum+=loss.item()\n",
    "    return loss_sum/n\n",
    "        \n",
    "def run_training(in_n_epoch,in_training_dataset,in_validation_dataset,in_flow_model,in_optimizer,in_device):\n",
    "    print(\"Starting Training Loop\")\n",
    "    for epoch in tqdm(range(in_n_epoch)):\n",
    "        loss_training=_run_training_loop(in_training_dataset,in_flow_model,in_optimizer,in_device)\n",
    "        loss_validation=_run_validation_loop(in_validation_dataset,in_flow_model,in_device)\n",
    "        print(f\"End Epoch with training loss:{loss_training} and validtion loss:{loss_validation}\")\n",
    "    \n",
    "def generate_probability_map(n_points,x_min,x_max,y_min,y_max,in_flow_model):\n",
    "    results=[]\n",
    "    for x in torch.linspace(x_min,x_max,n_points):\n",
    "        _results_y=[]\n",
    "        for y in torch.linspace(y_min,y_max,n_points):\n",
    "            d=torch.stack([x,y]).reshape([1,-1])\n",
    "            _results_y.append(in_flow_model.nll(d).item())\n",
    "        results.append(_results_y)\n",
    "    return np.exp(-np.asarray(results)).T"
   ]
  },
  {
   "cell_type": "markdown",
   "metadata": {},
   "source": [
    "# Create Normalzing Flow Model"
   ]
  },
  {
   "cell_type": "code",
   "execution_count": 7,
   "metadata": {},
   "outputs": [
    {
     "name": "stdout",
     "output_type": "stream",
     "text": [
      "Starting Training Loop\n"
     ]
    },
    {
     "data": {
      "application/vnd.jupyter.widget-view+json": {
       "model_id": "10d4a0cd3da04ee1a8f67d491486a975",
       "version_major": 2,
       "version_minor": 0
      },
      "text/plain": [
       "HBox(children=(FloatProgress(value=0.0, max=50.0), HTML(value='')))"
      ]
     },
     "metadata": {},
     "output_type": "display_data"
    },
    {
     "name": "stdout",
     "output_type": "stream",
     "text": [
      "End Epoch with training loss:0.8484449693962922 and validtion loss:0.7978643622642128\n",
      "End Epoch with training loss:0.8092785204211947 and validtion loss:0.7739202960992393\n",
      "End Epoch with training loss:0.7878425297108661 and validtion loss:0.737748070075489\n",
      "End Epoch with training loss:0.7550164509948369 and validtion loss:0.674027154620844\n",
      "End Epoch with training loss:0.733814627866446 and validtion loss:0.6965129463055644\n",
      "End Epoch with training loss:0.7204636388761602 and validtion loss:0.6413274378822253\n",
      "End Epoch with training loss:0.7156104316180589 and validtion loss:0.6294908114134694\n",
      "End Epoch with training loss:0.7292378254220491 and validtion loss:0.6262567991646715\n",
      "End Epoch with training loss:0.7183315146449889 and validtion loss:0.6372331807407708\n",
      "End Epoch with training loss:0.718761354551358 and validtion loss:0.6406910343292042\n",
      "End Epoch with training loss:0.7154141444086037 and validtion loss:0.6307120050866002\n",
      "End Epoch with training loss:0.7120649551475803 and validtion loss:0.6080263479829977\n",
      "End Epoch with training loss:0.7045516470114696 and validtion loss:0.5973400445030139\n",
      "End Epoch with training loss:0.7081056792844356 and validtion loss:0.6063605611697553\n",
      "End Epoch with training loss:0.7112475725526011 and validtion loss:0.5925671611540615\n",
      "End Epoch with training loss:0.6978564145507068 and validtion loss:0.5897773771811599\n",
      "End Epoch with training loss:0.6910104547375223 and validtion loss:0.607163246637716\n",
      "End Epoch with training loss:0.6991919843111752 and validtion loss:0.6114058456481836\n",
      "End Epoch with training loss:0.6989617630486601 and validtion loss:0.6127520394020568\n",
      "End Epoch with training loss:0.6900038911948506 and validtion loss:0.585152553578916\n",
      "End Epoch with training loss:0.7033928607185911 and validtion loss:0.6084274103085454\n",
      "End Epoch with training loss:0.6968556851129538 and validtion loss:0.5906279306061352\n",
      "End Epoch with training loss:0.692712305717871 and validtion loss:0.5608134297326731\n",
      "End Epoch with training loss:0.6948344489167458 and validtion loss:0.5688251305502444\n",
      "End Epoch with training loss:0.6868275508847057 and validtion loss:0.6050478645597404\n",
      "End Epoch with training loss:0.6875448446775657 and validtion loss:0.5904744778768704\n",
      "End Epoch with training loss:0.6782824752503149 and validtion loss:0.57323754643099\n",
      "End Epoch with training loss:0.6784552790114915 and validtion loss:0.5686992747715106\n",
      "End Epoch with training loss:0.6787169013394047 and validtion loss:0.5561036474217241\n",
      "End Epoch with training loss:0.6779380094448267 and validtion loss:0.5456439867948952\n",
      "End Epoch with training loss:0.6759686305670881 and validtion loss:0.54927797229907\n",
      "End Epoch with training loss:0.6782414252111261 and validtion loss:0.5576543741332837\n",
      "End Epoch with training loss:0.6740507729451625 and validtion loss:0.5625760328655426\n",
      "End Epoch with training loss:0.6684552240051372 and validtion loss:0.537318589873969\n",
      "End Epoch with training loss:0.6686584122159583 and validtion loss:0.543481382222983\n",
      "End Epoch with training loss:0.6744638899351951 and validtion loss:0.5890003551309482\n",
      "End Epoch with training loss:0.6682209277374197 and validtion loss:0.5427157062882433\n",
      "End Epoch with training loss:0.6727474700809669 and validtion loss:0.5460330872490002\n",
      "End Epoch with training loss:0.6674534323043115 and validtion loss:0.5543646910510505\n",
      "End Epoch with training loss:0.6606848960073805 and validtion loss:0.5419848889778978\n",
      "End Epoch with training loss:0.6584759158197306 and validtion loss:0.5218567299766662\n",
      "End Epoch with training loss:0.6534228611091583 and validtion loss:0.5385684324339175\n",
      "End Epoch with training loss:0.6546279573318521 and validtion loss:0.5633152322456859\n",
      "End Epoch with training loss:0.6625370159411537 and validtion loss:0.5767878275900222\n",
      "End Epoch with training loss:0.653395017216927 and validtion loss:0.5416172067768658\n",
      "End Epoch with training loss:0.6425998036059064 and validtion loss:0.5281821033253837\n",
      "End Epoch with training loss:0.6550238649202934 and validtion loss:0.5336864114569398\n",
      "End Epoch with training loss:0.6414469491192262 and validtion loss:0.515131263782422\n",
      "End Epoch with training loss:0.6527317992136864 and validtion loss:0.511247238507286\n",
      "End Epoch with training loss:0.6431913064102751 and validtion loss:0.5177059502076036\n",
      "\n"
     ]
    }
   ],
   "source": [
    "dim=training_data.dim() # get data dim\n",
    "base_distribution=MultivariateNormal(torch.zeros(dim, device=device),torch.eye(dim, device=device)) # generate a class for base distribution\n",
    "flows = []\n",
    "for i in range(n_flow_blocks):\n",
    "    flows.append(\n",
    "            nfp.flows.ActNorm(dim=dim))\n",
    "    flows.append(\n",
    "            nfp.flows.InvertibleFullyConnected(dim=dim))\n",
    "    flows.append(\n",
    "                nfp.flows.AffineCouplingFlowVector(dim=dim, parity=i % 2, scale=True,scale_mode=nfp.flows.AffineScale.IDENTITY))\n",
    "flow=nfp.NormalizingFlowModel(base_distribution, flows).to(device)\n",
    "optimizer=torch.optim.Adam(flow.parameters(),lr=1e-4)\n",
    "run_training(n_epochs,training_dataset_loader,validation_dataset_loader,flow,optimizer,device)"
   ]
  },
  {
   "cell_type": "code",
   "execution_count": 10,
   "metadata": {},
   "outputs": [],
   "source": [
    "x_min=-1.4\n",
    "x_max=2.1\n",
    "y_min=-1\n",
    "y_max=1.5\n",
    "res=generate_probability_map(200,x_min,x_max,y_min,y_max,flow)"
   ]
  },
  {
   "cell_type": "code",
   "execution_count": 11,
   "metadata": {},
   "outputs": [
    {
     "data": {
      "image/png": "[encoded data removed]",
      "text/plain": [
       "<Figure size 432x288 with 2 Axes>"
      ]
     },
     "metadata": {
      "needs_background": "light"
     },
     "output_type": "display_data"
    }
   ],
   "source": [
    "fig, (ax0,ax1) = plt.subplots(2)\n",
    "x=np.linspace(x_min,x_max,200)\n",
    "y=np.linspace(y_min,y_max,200)\n",
    "\n",
    "\n",
    "xx,yy=np.meshgrid(x,y)\n",
    "im = ax0.pcolormesh(xx,yy,res)\n",
    "\n",
    "ax1.plot(training_data[:,0],training_data[:,1],\"o\")\n",
    "ax1.grid()\n",
    "plt.show()"
   ]
  }
 ],
 "metadata": {
  "kernelspec": {
   "display_name": "Python 3",
   "language": "python",
   "name": "python3"
  },
  "language_info": {
   "codemirror_mode": {
    "name": "ipython",
    "version": 3
   },
   "file_extension": ".py",
   "mimetype": "text/x-python",
   "name": "python",
   "nbconvert_exporter": "python",
   "pygments_lexer": "ipython3",
   "version": "3.7.4"
  }
 },
 "nbformat": 4,
 "nbformat_minor": 4
}
