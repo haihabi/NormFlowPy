{
 "cells": [
  {
   "cell_type": "code",
   "execution_count": 1,
   "metadata": {},
   "outputs": [
    {
     "data": {
      "text/plain": [
       "'/Users/haihabi/projects/NormFlowPy'"
      ]
     },
     "execution_count": 1,
     "metadata": {},
     "output_type": "execute_result"
    }
   ],
   "source": [
    "import os\n",
    "base=os.path.dirname(os.path.realpath(\"__file__\")).split(os.sep)\n",
    "os.chdir(os.sep+os.path.join(*base[:-1]))\n",
    "os.getcwd()"
   ]
  },
  {
   "cell_type": "code",
   "execution_count": 2,
   "metadata": {},
   "outputs": [],
   "source": [
    "import numpy as np\n",
    "import normflowpy as nfp\n",
    "import datasets\n",
    "import torch\n",
    "from matplotlib import pyplot as plt\n",
    "from torch.distributions import MultivariateNormal\n",
    "from experiments.functions import run_training"
   ]
  },
  {
   "cell_type": "code",
   "execution_count": 3,
   "metadata": {},
   "outputs": [
    {
     "name": "stdout",
     "output_type": "stream",
     "text": [
      "Current Working Device is set to:cpu\n"
     ]
    }
   ],
   "source": [
    "dataset_type = datasets.DatasetType.MOONS\n",
    "n_training_samples = 50000\n",
    "n_validation_samples = 10000\n",
    "n_flow_blocks = 3\n",
    "batch_size = 32\n",
    "n_epochs = 50\n",
    "device = torch.device(\"cuda\" if torch.cuda.is_available() else \"cpu\")\n",
    "print(\"Current Working Device is set to:\" + str(device))\n",
    "training_data = datasets.get_dataset(dataset_type, n_training_samples)\n",
    "training_dataset_loader = torch.utils.data.DataLoader(training_data, batch_size=batch_size,\n",
    "                                                      shuffle=True, num_workers=0)\n",
    "\n",
    "validation_data = datasets.get_dataset(dataset_type, n_validation_samples)\n",
    "validation_dataset_loader = torch.utils.data.DataLoader(validation_data, batch_size=batch_size,\n",
    "                                                        shuffle=False, num_workers=0)"
   ]
  },
  {
   "cell_type": "markdown",
   "metadata": {},
   "source": [
    "# Create Glow Normalizing Flow Model"
   ]
  },
  {
   "cell_type": "code",
   "execution_count": 4,
   "metadata": {},
   "outputs": [],
   "source": [
    "dim = training_data.dim()  # get data dim\n",
    "base_distribution = MultivariateNormal(torch.zeros(dim, device=device),\n",
    "                                       torch.eye(dim, device=device))  # generate a class for base distribution\n",
    "flows = []\n",
    "for i in range(n_flow_blocks):\n",
    "    flows.append(\n",
    "        nfp.flows.ActNorm(dim=dim))\n",
    "    flows.append(\n",
    "        nfp.flows.InvertibleFullyConnected(dim=dim))\n",
    "    flows.append(\n",
    "        nfp.flows.AffineCoupling(x_shape=[dim], parity=i % 2, net_class=nfp.base_nets.generate_mlp_class(), nh=32))\n",
    "flow = nfp.NormalizingFlowModel(base_distribution, flows).to(device)"
   ]
  },
  {
   "cell_type": "markdown",
   "metadata": {
    "pycharm": {
     "name": "#%% md\n"
    }
   },
   "source": [
    "# Set Optimizer and run training"
   ]
  },
  {
   "cell_type": "code",
   "execution_count": 5,
   "metadata": {
    "collapsed": false,
    "jupyter": {
     "outputs_hidden": false
    },
    "pycharm": {
     "name": "#%%\n"
    }
   },
   "outputs": [
    {
     "name": "stdout",
     "output_type": "stream",
     "text": [
      "Starting Training Loop\n"
     ]
    },
    {
     "data": {
      "application/vnd.jupyter.widget-view+json": {
       "model_id": "ef88e27cb6784f22b3d4d0ca5b7d969d",
       "version_major": 2,
       "version_minor": 0
      },
      "text/plain": [
       "HBox(children=(FloatProgress(value=0.0, max=50.0), HTML(value='')))"
      ]
     },
     "metadata": {},
     "output_type": "display_data"
    },
    {
     "name": "stdout",
     "output_type": "stream",
     "text": [
      "End Epoch with training loss:0.7749309667165052 and validtion loss:0.6348536557282883\n",
      "End Epoch with training loss:0.5798774908463008 and validtion loss:0.536163659807973\n",
      "End Epoch with training loss:0.5079237787256772 and validtion loss:0.4752305024348128\n",
      "End Epoch with training loss:0.46097942178095297 and validtion loss:0.44548572147616183\n",
      "End Epoch with training loss:0.42892127144207043 and validtion loss:0.41026560767009235\n",
      "End Epoch with training loss:0.40179547567399587 and validtion loss:0.38587775336096464\n",
      "End Epoch with training loss:0.3742619390031579 and validtion loss:0.35520271347544063\n",
      "End Epoch with training loss:0.3449574706650512 and validtion loss:0.34312056800047047\n",
      "End Epoch with training loss:0.31367778956832904 and validtion loss:0.2941466412795618\n",
      "End Epoch with training loss:0.2826601621561987 and validtion loss:0.27287068410803333\n",
      "End Epoch with training loss:0.26119281217141255 and validtion loss:0.2533848402551569\n",
      "End Epoch with training loss:0.24790037556367278 and validtion loss:0.2520676074555507\n",
      "End Epoch with training loss:0.2384451588583599 and validtion loss:0.23875765076365335\n",
      "End Epoch with training loss:0.23165814144511826 and validtion loss:0.2348996112331415\n",
      "End Epoch with training loss:0.22689394017303707 and validtion loss:0.22728913855819274\n",
      "End Epoch with training loss:0.22345067260003937 and validtion loss:0.2387228597657749\n",
      "End Epoch with training loss:0.2211337143487356 and validtion loss:0.2232278013429322\n",
      "End Epoch with training loss:0.21841599973501377 and validtion loss:0.21877250300285916\n",
      "End Epoch with training loss:0.2169725701274852 and validtion loss:0.22026294672165436\n",
      "End Epoch with training loss:0.21421425329832336 and validtion loss:0.2196136857873906\n",
      "End Epoch with training loss:0.21349868322803053 and validtion loss:0.22038811667801472\n",
      "End Epoch with training loss:0.2119793631708439 and validtion loss:0.22047258088121208\n",
      "End Epoch with training loss:0.21061235574870749 and validtion loss:0.21474423214269522\n",
      "End Epoch with training loss:0.20996581587489987 and validtion loss:0.22809736510387624\n",
      "End Epoch with training loss:0.20926667826389625 and validtion loss:0.2100152757506782\n",
      "End Epoch with training loss:0.20862991857847113 and validtion loss:0.21258008377715804\n",
      "End Epoch with training loss:0.2068184613097061 and validtion loss:0.21590228703694223\n",
      "End Epoch with training loss:0.20678989802769035 and validtion loss:0.22007793399948664\n",
      "End Epoch with training loss:0.20601480096216318 and validtion loss:0.22010138515418712\n",
      "End Epoch with training loss:0.20562809580723712 and validtion loss:0.20667503105280116\n",
      "End Epoch with training loss:0.2050017210752039 and validtion loss:0.20920927220354446\n",
      "End Epoch with training loss:0.2054733811083392 and validtion loss:0.20921479389309502\n",
      "End Epoch with training loss:0.20398777429912995 and validtion loss:0.22110502937207588\n",
      "End Epoch with training loss:0.20427199946960728 and validtion loss:0.21596601486396486\n",
      "End Epoch with training loss:0.20409774174645628 and validtion loss:0.20746382255666554\n",
      "End Epoch with training loss:0.20421017291440235 and validtion loss:0.21240589570123167\n",
      "End Epoch with training loss:0.2035822188070548 and validtion loss:0.2060402099745342\n",
      "End Epoch with training loss:0.20351102489379835 and validtion loss:0.20733449441461135\n",
      "End Epoch with training loss:0.20367398563240938 and validtion loss:0.22482921849019802\n",
      "End Epoch with training loss:0.2025796336932817 and validtion loss:0.2042126039775035\n",
      "End Epoch with training loss:0.20240594713602475 and validtion loss:0.20572240237658396\n",
      "End Epoch with training loss:0.20291316157334405 and validtion loss:0.22488374054765167\n",
      "End Epoch with training loss:0.20255020616894262 and validtion loss:0.2076925429316184\n",
      "End Epoch with training loss:0.2025478090197134 and validtion loss:0.2105193052607508\n",
      "End Epoch with training loss:0.20140261073034885 and validtion loss:0.20846570305193005\n",
      "End Epoch with training loss:0.20193403448625893 and validtion loss:0.2082492147271816\n",
      "End Epoch with training loss:0.2016011202363482 and validtion loss:0.20556751479165622\n",
      "End Epoch with training loss:0.20191385855234478 and validtion loss:0.20886407848507071\n",
      "End Epoch with training loss:0.20123289047394208 and validtion loss:0.2081856683087044\n",
      "End Epoch with training loss:0.20066226470407506 and validtion loss:0.21963580579946215\n",
      "\n"
     ]
    }
   ],
   "source": [
    "optimizer = torch.optim.Adam(flow.parameters(), lr=1e-4)\n",
    "run_training(n_epochs, training_dataset_loader, validation_dataset_loader, flow, optimizer, device)"
   ]
  },
  {
   "cell_type": "markdown",
   "metadata": {
    "pycharm": {
     "name": "#%% md\n"
    }
   },
   "source": [
    "# Plot probability Map"
   ]
  },
  {
   "cell_type": "code",
   "execution_count": 6,
   "metadata": {
    "pycharm": {
     "name": "#%%\n"
    }
   },
   "outputs": [
    {
     "data": {
      "image/png": "[encoded data removed]",
      "text/plain": [
       "<Figure size 432x288 with 2 Axes>"
      ]
     },
     "metadata": {
      "needs_background": "light"
     },
     "output_type": "display_data"
    }
   ],
   "source": [
    "def generate_probability_map(n_points, in_x_min, in_x_max, in_y_min, in_y_max, in_flow_model, in_device):\n",
    "    results = []\n",
    "    for x_tag in torch.linspace(in_x_min, in_x_max, n_points):\n",
    "        _results_y = []\n",
    "        for y_tag in torch.linspace(in_y_min, in_y_max, n_points):\n",
    "            d = torch.stack([x_tag, y_tag]).reshape([1, -1]).to(in_device)\n",
    "            _results_y.append(in_flow_model.nll(d).item())\n",
    "        results.append(_results_y)\n",
    "    return np.exp(-np.asarray(results)).T\n",
    "\n",
    "\n",
    "x_min = -1.4\n",
    "x_max = 2.1\n",
    "y_min = -1\n",
    "y_max = 1.5\n",
    "res = generate_probability_map(200, x_min, x_max, y_min, y_max, flow, device)\n",
    "\n",
    "fig, (ax0, ax1) = plt.subplots(2)\n",
    "x = np.linspace(x_min, x_max, 200)\n",
    "y = np.linspace(y_min, y_max, 200)\n",
    "\n",
    "xx, yy = np.meshgrid(x, y)\n",
    "im = ax0.pcolormesh(xx, yy, res)\n",
    "\n",
    "ax1.plot(training_data[:, 0], training_data[:, 1], \"o\")\n",
    "ax1.grid()\n",
    "plt.show()"
   ]
  }
 ],
 "metadata": {
  "kernelspec": {
   "display_name": "Python 3",
   "language": "python",
   "name": "python3"
  },
  "language_info": {
   "codemirror_mode": {
    "name": "ipython",
    "version": 3
   },
   "file_extension": ".py",
   "mimetype": "text/x-python",
   "name": "python",
   "nbconvert_exporter": "python",
   "pygments_lexer": "ipython3",
   "version": "3.7.4"
  }
 },
 "nbformat": 4,
 "nbformat_minor": 4
}
